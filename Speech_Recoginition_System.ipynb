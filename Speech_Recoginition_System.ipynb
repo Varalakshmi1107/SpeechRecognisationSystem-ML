{
 "cells": [
  {
   "cell_type": "markdown",
   "id": "4a0addc0",
   "metadata": {},
   "source": [
    "# Speech to text"
   ]
  },
  {
   "cell_type": "code",
   "execution_count": 1,
   "id": "46facd7e",
   "metadata": {},
   "outputs": [],
   "source": [
    "# (packages need to be installed in terminal)\n",
    "    # pip install SpeechRecognition\n",
    "    # pip install pyttsx3\n",
    "    # pip install pipwin"
   ]
  },
  {
   "cell_type": "code",
   "execution_count": 2,
   "id": "63497e3f",
   "metadata": {},
   "outputs": [],
   "source": [
    "#!pipwin install pyaudio"
   ]
  },
  {
   "cell_type": "code",
   "execution_count": 3,
   "id": "09715eb9",
   "metadata": {},
   "outputs": [],
   "source": [
    "import speech_recognition\n",
    "import pyttsx3"
   ]
  },
  {
   "cell_type": "code",
   "execution_count": 4,
   "id": "fd9febba",
   "metadata": {},
   "outputs": [],
   "source": [
    "def SpeakNow(command):\n",
    "  voice=pyttsx3.init()\n",
    "  voice.say(command)\n",
    "  voice.runAndWait()"
   ]
  },
  {
   "cell_type": "code",
   "execution_count": 9,
   "id": "5f26adab",
   "metadata": {},
   "outputs": [
    {
     "name": "stdout",
     "output_type": "stream",
     "text": [
      "Slinece please\n",
      "Speak now please.....\n",
      "Did you say : allow now\n"
     ]
    }
   ],
   "source": [
    "sr = speech_recognition.Recognizer()\n",
    "\n",
    "with speech_recognition.Microphone() as source2:\n",
    "  print(\"Slinece please\")\n",
    "  sr.adjust_for_ambient_noise(source2,duration = 2)\n",
    "  print(\"Speak now please.....\")\n",
    "  audio2=sr.listen(source2)\n",
    "\n",
    "  textt=sr.recognize_google(audio2)\n",
    "  textt=textt.lower()\n",
    "  print(\"Did you say : \"+textt)\n",
    "\n",
    "  SpeakNow(textt)"
   ]
  },
  {
   "cell_type": "markdown",
   "id": "52e6531c",
   "metadata": {},
   "source": [
    "# Speech to web"
   ]
  },
  {
   "cell_type": "code",
   "execution_count": 6,
   "id": "0a489298",
   "metadata": {},
   "outputs": [],
   "source": [
    "import speech_recognition\n",
    "import pyttsx3\n",
    "import webbrowser"
   ]
  },
  {
   "cell_type": "code",
   "execution_count": 7,
   "id": "f1a7f570",
   "metadata": {},
   "outputs": [
    {
     "name": "stdout",
     "output_type": "stream",
     "text": [
      "Please say something to open....\n",
      "Hearing.....\n",
      "you asked to open :www.google.com\n"
     ]
    }
   ],
   "source": [
    "if __name__==\"__main__\":\n",
    "    path = \"C:/Program Files (x86)/Microsoft/Edge/Application/msedge.exe %s\"\n",
    "    sr=speech_recognition.Recognizer()\n",
    "    with speech_recognition.Microphone() as source:\n",
    "        sr.adjust_for_ambient_noise(source)\n",
    "        print(\"Please say something to open....\")\n",
    "        audio=sr.listen(source)\n",
    "        print(\"Hearing.....\")\n",
    "        \n",
    "        try:\n",
    "            destination=sr.recognize_google(audio)\n",
    "            print(\"you asked to open :\"+destination)\n",
    "            webbrowser.get(path).open(destination)\n",
    "        except Exception as e:\n",
    "            print(\"error : \"+str(e))"
   ]
  },
  {
   "cell_type": "code",
   "execution_count": null,
   "id": "0e25b404",
   "metadata": {},
   "outputs": [],
   "source": []
  }
 ],
 "metadata": {
  "kernelspec": {
   "display_name": "Python 3 (ipykernel)",
   "language": "python",
   "name": "python3"
  },
  "language_info": {
   "codemirror_mode": {
    "name": "ipython",
    "version": 3
   },
   "file_extension": ".py",
   "mimetype": "text/x-python",
   "name": "python",
   "nbconvert_exporter": "python",
   "pygments_lexer": "ipython3",
   "version": "3.10.9"
  }
 },
 "nbformat": 4,
 "nbformat_minor": 5
}
